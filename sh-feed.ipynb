{
 "cells": [
  {
   "cell_type": "code",
   "execution_count": 18,
   "metadata": {},
   "outputs": [],
   "source": [
    "import numpy as np\n",
    "from IPython.display import Image,display\n",
    "import matplotlib.pyplot as plt"
   ]
  },
  {
   "cell_type": "code",
   "execution_count": 1,
   "metadata": {},
   "outputs": [],
   "source": [
    "import numpy as np  \n",
    "import matplotlib.pyplot as plt  \n",
    "import pandas as pd\n",
    "eps = np.finfo(float).eps\n",
    "from numpy import log2 as log\n",
    "import math\n",
    "import sys\n",
    "from scipy.linalg import svd\n",
    "# from google.colab import files\n",
    "# uploaded = files.upload()\n",
    "# import io\n",
    "# dataset = pd.read_csv(io.BytesIO(uploaded['apparel-trainval.csv']))\n",
    "\n",
    "# Read dataset to pandas dataframe\n",
    "dataset = pd.read_csv('/home/aishwarya/CSIS/SMAI/SMAI_assig/a-5/Apparel/apparel-trainval.csv')\n",
    "\n",
    "#we need to normalize the features using mean normalization\n",
    "# dataset1=data_nrmalize(dataset)\n",
    "# dataset1=(dataset.iloc[:,:-1] - dataset.mean().values)/dataset.std().values\n",
    "\n",
    "train, validate = np.split(dataset, [int(.9*len(dataset))]) #for sequential data\n",
    "# train, validate = np.split(dataset.sample(frac=1), [int(.8*len(dataset))]) # for random \n",
    "\n",
    "# dataset1"
   ]
  },
  {
   "cell_type": "code",
   "execution_count": 3,
   "metadata": {},
   "outputs": [],
   "source": [
    "def prepare_data_X(data1):\n",
    "    X= data1.iloc[:,:-1].values\n",
    "    return X\n",
    "    \n",
    "def prepare_data_Y(data1):\n",
    "    Y= data1.iloc[:,-1].values\n",
    "    return Y   "
   ]
  },
  {
   "cell_type": "code",
   "execution_count": 14,
   "metadata": {},
   "outputs": [
    {
     "name": "stdout",
     "output_type": "stream",
     "text": [
      "hello i am neural network\n",
      "h- 9\n",
      "g- 4\n",
      "f 4\n"
     ]
    }
   ],
   "source": [
    "print 'hello i am neural network'\n",
    "df=validate\n",
    "\n",
    "cols = [col for col in df if col != df.columns[0]]+[df.columns[0]]\n",
    "df = df[cols]\n",
    "\n",
    "Y=prepare_data_Y(df)\n",
    "X=prepare_data_X(df)\n",
    "print 'h-',Y[8]\n",
    "print 'g-',Y[15]\n",
    "print 'f',Y[9]\n",
    "# print X"
   ]
  },
  {
   "cell_type": "code",
   "execution_count": 5,
   "metadata": {},
   "outputs": [],
   "source": [
    "#Xor data\n",
    "XORdata=np.array([[0,0,0],[0,1,1],[1,0,1],[1,1,0]])\n",
    "X=XORdata[:,0:2]\n",
    "y=XORdata[:,-1]"
   ]
  },
  {
   "cell_type": "code",
   "execution_count": 3,
   "metadata": {},
   "outputs": [],
   "source": [
    "def print_network(net):\n",
    "    for i,layer in enumerate(net,1):\n",
    "        print(\"Layer {} \".format(i))\n",
    "        for j,neuron in enumerate(layer,1):\n",
    "            print(\"neuron {} :\".format(j),neuron)"
   ]
  },
  {
   "cell_type": "code",
   "execution_count": 4,
   "metadata": {},
   "outputs": [],
   "source": [
    "def initialize_network():\n",
    "    \n",
    "    input_neurons=len(X[0])\n",
    "    hidden_neurons=input_neurons+1\n",
    "    output_neurons=2\n",
    "    \n",
    "    n_hidden_layers=1\n",
    "    \n",
    "    net=list()\n",
    "    \n",
    "    for h in range(n_hidden_layers):\n",
    "        if h!=0:\n",
    "            input_neurons=len(net[-1])\n",
    "            \n",
    "        hidden_layer = [ { 'weights': np.random.uniform(size=input_neurons)} for i in range(hidden_neurons) ]\n",
    "        net.append(hidden_layer)\n",
    "    \n",
    "    output_layer = [ { 'weights': np.random.uniform(size=hidden_neurons)} for i in range(output_neurons)]\n",
    "    net.append(output_layer)\n",
    "    \n",
    "    return net"
   ]
  },
  {
   "cell_type": "code",
   "execution_count": 5,
   "metadata": {
    "scrolled": false
   },
   "outputs": [
    {
     "data": {
      "image/png": "aW1nL25ldHdvcmsuanBn\n",
      "text/plain": [
       "<IPython.core.display.Image object>"
      ]
     },
     "metadata": {},
     "output_type": "display_data"
    },
    {
     "name": "stdout",
     "output_type": "stream",
     "text": [
      "Layer 1 \n",
      "('neuron 1 :', {'weights': array([ 0.06588518,  0.47434582])})\n",
      "('neuron 2 :', {'weights': array([ 0.74648194,  0.553562  ])})\n",
      "('neuron 3 :', {'weights': array([ 0.64003977,  0.10537228])})\n",
      "Layer 2 \n",
      "('neuron 1 :', {'weights': array([ 0.75206347,  0.04883561,  0.67349945])})\n",
      "('neuron 2 :', {'weights': array([ 0.59652985,  0.37145839,  0.32767015])})\n"
     ]
    }
   ],
   "source": [
    "net=initialize_network()\n",
    "display(Image(\"img/network.jpg\"))\n",
    "print_network(net)"
   ]
  },
  {
   "cell_type": "code",
   "execution_count": 6,
   "metadata": {},
   "outputs": [],
   "source": [
    "def activate_sigmoid(sum):\n",
    "    return (1/(1+np.exp(-sum)))"
   ]
  },
  {
   "cell_type": "code",
   "execution_count": 7,
   "metadata": {
    "scrolled": true
   },
   "outputs": [],
   "source": [
    "def forward_propagation(net,input):\n",
    "    row=input\n",
    "    for layer in net:\n",
    "        prev_input=np.array([])\n",
    "        for neuron in layer:\n",
    "            sum=neuron['weights'].T.dot(row)\n",
    "            \n",
    "            result=activate_sigmoid(sum)\n",
    "            neuron['result']=result\n",
    "            \n",
    "            prev_input=np.append(prev_input,[result])\n",
    "        row =prev_input\n",
    "    \n",
    "    return row"
   ]
  },
  {
   "cell_type": "code",
   "execution_count": 8,
   "metadata": {},
   "outputs": [],
   "source": [
    "def sigmoidDerivative(output):\n",
    "    return output*(1.0-output)"
   ]
  },
  {
   "cell_type": "code",
   "execution_count": 9,
   "metadata": {},
   "outputs": [],
   "source": [
    "def back_propagation(net,row,expected):\n",
    "     for i in reversed(range(len(net))):\n",
    "            layer=net[i]\n",
    "            errors=np.array([])\n",
    "            if i==len(net)-1:\n",
    "                results=[neuron['result'] for neuron in layer]\n",
    "                errors = expected-np.array(results) \n",
    "            else:\n",
    "                for j in range(len(layer)):\n",
    "                    herror=0\n",
    "                    nextlayer=net[i+1]\n",
    "                    for neuron in nextlayer:\n",
    "                        herror+=(neuron['weights'][j]*neuron['delta'])\n",
    "                    errors=np.append(errors,[herror])\n",
    "            \n",
    "            for j in range(len(layer)):\n",
    "                neuron=layer[j]\n",
    "                neuron['delta']=errors[j]*sigmoidDerivative(neuron['result'])"
   ]
  },
  {
   "cell_type": "code",
   "execution_count": 10,
   "metadata": {},
   "outputs": [],
   "source": [
    "def updateWeights(net,input,lrate):\n",
    "    \n",
    "    for i in range(len(net)):\n",
    "        inputs = input\n",
    "        if i!=0:\n",
    "            inputs=[neuron['result'] for neuron in net[i-1]]\n",
    "\n",
    "        for neuron in net[i]:\n",
    "            for j in range(len(inputs)):\n",
    "                neuron['weights'][j]+=lrate*neuron['delta']*inputs[j]"
   ]
  },
  {
   "cell_type": "code",
   "execution_count": 11,
   "metadata": {},
   "outputs": [],
   "source": [
    "def training(net, epochs,lrate,n_outputs):\n",
    "    errors=[]\n",
    "    for epoch in range(epochs):\n",
    "        sum_error=0\n",
    "        for i,row in enumerate(X):\n",
    "            outputs=forward_propagation(net,row)\n",
    "            \n",
    "            expected=[0.0 for i in range(n_outputs)]\n",
    "            expected[y[i]]=1\n",
    "    \n",
    "            sum_error+=sum([(expected[j]-outputs[j])**2 for j in range(len(expected))])\n",
    "            back_propagation(net,row,expected)\n",
    "            updateWeights(net,row,0.05)\n",
    "        if epoch%10000 ==0:\n",
    "            print('>epoch=%d,error=%.3f'%(epoch,sum_error))\n",
    "            errors.append(sum_error)\n",
    "    return errors"
   ]
  },
  {
   "cell_type": "code",
   "execution_count": 12,
   "metadata": {},
   "outputs": [
    {
     "name": "stdout",
     "output_type": "stream",
     "text": [
      ">epoch=0,error=2.353\n",
      ">epoch=10000,error=0.002\n",
      ">epoch=20000,error=0.001\n",
      ">epoch=30000,error=0.001\n",
      ">epoch=40000,error=0.001\n",
      ">epoch=50000,error=0.001\n",
      ">epoch=60000,error=0.000\n",
      ">epoch=70000,error=0.000\n",
      ">epoch=80000,error=0.000\n",
      ">epoch=90000,error=0.000\n"
     ]
    }
   ],
   "source": [
    "errors=training(net,100000, 0.05,2)"
   ]
  },
  {
   "cell_type": "code",
   "execution_count": 13,
   "metadata": {},
   "outputs": [
    {
     "data": {
      "image/png": "[encoded data removed]",
      "text/plain": [
       "<Figure size 432x288 with 1 Axes>"
      ]
     },
     "metadata": {
      "needs_background": "light"
     },
     "output_type": "display_data"
    }
   ],
   "source": [
    "epochs=[0,1,2,3,4,5,6,7,8,9]\n",
    "plt.plot(epochs,errors)\n",
    "plt.xlabel(\"epochs in 10000's\")\n",
    "plt.ylabel('error')\n",
    "plt.show()"
   ]
  },
  {
   "cell_type": "code",
   "execution_count": 14,
   "metadata": {},
   "outputs": [],
   "source": [
    "# Make a prediction with a network\n",
    "def predict(network, row):\n",
    "    outputs = forward_propagation(net, row)\n",
    "    return outputs"
   ]
  },
  {
   "cell_type": "code",
   "execution_count": 15,
   "metadata": {},
   "outputs": [
    {
     "name": "stdout",
     "output_type": "stream",
     "text": [
      "1\n"
     ]
    }
   ],
   "source": [
    "pred=predict(net,np.array([1,0]))\n",
    "output=np.argmax(pred)\n",
    "print(output)"
   ]
  },
  {
   "cell_type": "code",
   "execution_count": 16,
   "metadata": {},
   "outputs": [
    {
     "data": {
      "image/png": "aW1nL2JwLmpwZw==\n",
      "text/plain": [
       "<IPython.core.display.Image object>"
      ]
     },
     "metadata": {},
     "output_type": "display_data"
    },
    {
     "name": "stdout",
     "output_type": "stream",
     "text": [
      "Layer 1 \n",
      "('neuron 1 :', {'weights': array([ 0.46492704,  0.88254613]), 'result': 0.6141823536332246, 'delta': 2.2671094574991028e-07})\n",
      "('neuron 2 :', {'weights': array([ 1.25286048,  1.1405156 ]), 'result': 0.77779463175317853, 'delta': 1.2348876323293966e-07})\n",
      "('neuron 3 :', {'weights': array([ 0.97974401,  0.5259664 ]), 'result': 0.72705741951645431, 'delta': 2.0167998849071194e-07})\n",
      "Layer 2 \n",
      "('neuron 1 :', {'weights': array([-2.60688597, -3.63171101, -2.74704574]), 'result': 0.0016210016812057422, 'delta': -2.2848064468254052e-07})\n",
      "('neuron 2 :', {'weights': array([ 3.08878611,  3.05628137,  2.85573661]), 'result': 0.99825720645771432, 'delta': 2.5545109687502387e-07})\n"
     ]
    }
   ],
   "source": [
    "display(Image(\"img/bp.jpg\"))\n",
    "print_network(net)"
   ]
  },
  {
   "cell_type": "code",
   "execution_count": null,
   "metadata": {},
   "outputs": [],
   "source": []
  }
 ],
 "metadata": {
  "celltoolbar": "Raw Cell Format",
  "kernelspec": {
   "display_name": "Python 2",
   "language": "python",
   "name": "python2"
  },
  "language_info": {
   "codemirror_mode": {
    "name": "ipython",
    "version": 2
   },
   "file_extension": ".py",
   "mimetype": "text/x-python",
   "name": "python",
   "nbconvert_exporter": "python",
   "pygments_lexer": "ipython2",
   "version": "2.7.15rc1"
  }
 },
 "nbformat": 4,
 "nbformat_minor": 1
}
