{
 "cells": [
  {
   "cell_type": "code",
   "execution_count": 2,
   "metadata": {},
   "outputs": [],
   "source": [
    "import numpy as np  \n",
    "import matplotlib.pyplot as plt  \n",
    "import pandas as pd\n",
    "eps = np.finfo(float).eps\n",
    "from numpy import log2 as log\n",
    "import math\n",
    "import sys\n",
    "from scipy.linalg import svd\n",
    "\n",
    "# Read dataset to pandas dataframe\n",
    "dataset = pd.read_csv('/home/aishwarya/CSIS/SMAI/SMAI_assig/a-5/small_Data.csv')\n",
    "\n",
    "train, validate = np.split(dataset, [int(.8*len(dataset))]) #for sequential data\n",
    "# train, validate = np.split(dataset.sample(frac=1), [int(.8*len(dataset))]) # for random \n",
    "\n",
    "# dataset1"
   ]
  },
  {
   "cell_type": "code",
   "execution_count": 3,
   "metadata": {},
   "outputs": [
    {
     "data": {
      "text/plain": [
       "784"
      ]
     },
     "execution_count": 3,
     "metadata": {},
     "output_type": "execute_result"
    }
   ],
   "source": [
    "def prepare_data_X_Y(data1):\n",
    "    X= data1.iloc[:,:-1].values\n",
    "    Y= data1.iloc[:,-1].values\n",
    "    return X,Y\n",
    "    \n",
    "x_train,Y_train=prepare_data_X_Y(train)\n",
    "x_validate,y_validate=prepare_data_X_Y(validate)\n",
    "\n",
    "X=x_train\n",
    "y=Y_train\n",
    "len(X[0])"
   ]
  },
  {
   "cell_type": "code",
   "execution_count": null,
   "metadata": {},
   "outputs": [],
   "source": [
    "# def print_network(net):\n",
    "#     for i,layer in enumerate(net,1):\n",
    "#         print(\"Layer {} \".format(i))\n",
    "#         for j,neuron in enumerate(layer,1):\n",
    "#             print(\"neuron {} :\".format(j),neuron)"
   ]
  },
  {
   "cell_type": "code",
   "execution_count": 4,
   "metadata": {},
   "outputs": [],
   "source": [
    "def initialize_network():\n",
    "    \n",
    "    input_neurons=len(X[0])\n",
    "    hidden_neurons=input_neurons+1\n",
    "    output_neurons=10\n",
    "    \n",
    "    n_hidden_layers=1\n",
    "    \n",
    "    netwrk=list()\n",
    "    \n",
    "    for h in range(n_hidden_layers):\n",
    "        if h!=0:\n",
    "            input_neurons=len(netwrk[-1])\n",
    "            \n",
    "        hidden_layer = [ { 'weights': np.random.uniform(size=input_neurons)} for i in range(hidden_neurons) ]\n",
    "        netwrk.append(hidden_layer)\n",
    "    \n",
    "    output_layer = [ { 'weights': np.random.uniform(size=hidden_neurons)} for i in range(output_neurons)]\n",
    "    netwrk.append(output_layer)\n",
    "    \n",
    "    return netwrk"
   ]
  },
  {
   "cell_type": "code",
   "execution_count": 5,
   "metadata": {},
   "outputs": [],
   "source": [
    "# user inp hidden layers nd nodes\n",
    "net=initialize_network()\n"
   ]
  },
  {
   "cell_type": "code",
   "execution_count": 8,
   "metadata": {},
   "outputs": [],
   "source": [
    "def activate_sigmoid(sum):\n",
    "    return (1/(1+np.exp(-sum)))\n",
    "\n",
    "# expand"
   ]
  },
  {
   "cell_type": "code",
   "execution_count": null,
   "metadata": {},
   "outputs": [],
   "source": [
    "def sigmoidDerivative(output):\n",
    "    return output*(1.0-output)"
   ]
  },
  {
   "cell_type": "code",
   "execution_count": 7,
   "metadata": {},
   "outputs": [],
   "source": [
    "def forward_propagation(net,input,act_fun):\n",
    "    print 'inside forward :'\n",
    "    row=input\n",
    "    for layer in net:\n",
    "        prev_input=np.array([])\n",
    "        for neuron in layer:\n",
    "            sum=neuron['weights'].T.dot(row)\n",
    "            \n",
    "            if act_fun==\"sigmoid\":\n",
    "                result=activate_sigmoid(sum)\n",
    "            if act_fun==\"tanh\":\n",
    "                result=activate_tanh(sum)                \n",
    "            if act_fun==\"relu\":\n",
    "                result=activate_relu(sum)\n",
    "                \n",
    "            neuron['result']=result\n",
    "            \n",
    "            prev_input=np.append(prev_input,[result])\n",
    "        row =prev_input\n",
    "    print 'going out of forward'\n",
    "    return row"
   ]
  },
  {
   "cell_type": "code",
   "execution_count": null,
   "metadata": {},
   "outputs": [],
   "source": [
    "def back_propagation(net,row,expected):\n",
    "    print 'in back'\n",
    "    for i in reversed(range(len(net))):\n",
    "        layer=net[i]\n",
    "        errors=np.array([])\n",
    "        if i==len(net)-1:\n",
    "            results=[neuron['result'] for neuron in layer]\n",
    "            errors = expected-np.array(results) \n",
    "        else:\n",
    "            for j in range(len(layer)):\n",
    "                herror=0\n",
    "                nextlayer=net[i+1]\n",
    "                for neuron in nextlayer:\n",
    "                    herror+=(neuron['weights'][j]*neuron['delta'])\n",
    "                    errors=np.append(errors,[herror])\n",
    "            for j in range(len(layer)):\n",
    "                neuron=layer[j]\n",
    "                neuron['delta']=errors[j]*sigmoidDerivative(neuron['result'])\n",
    "    print 'going out of back'"
   ]
  }
 ],
 "metadata": {
  "kernelspec": {
   "display_name": "Python 2",
   "language": "python",
   "name": "python2"
  },
  "language_info": {
   "codemirror_mode": {
    "name": "ipython",
    "version": 2
   },
   "file_extension": ".py",
   "mimetype": "text/x-python",
   "name": "python",
   "nbconvert_exporter": "python",
   "pygments_lexer": "ipython2",
   "version": "2.7.15rc1"
  }
 },
 "nbformat": 4,
 "nbformat_minor": 2
}
