{
 "cells": [
  {
   "cell_type": "markdown",
   "metadata": {},
   "source": [
    "<center>\n",
    "\n",
    "## SMAI ASSIGNMENT-5\n",
    "### SUBMITTED BY: AISHWARYA SHIVACHANDRA\n",
    "### ROLL NO. : 2018202005</center>"
   ]
  },
  {
   "cell_type": "markdown",
   "metadata": {},
   "source": [
    "## Q1 Train and validate your own n-layer Neural Network on the Apparel dataset to predict the class label of a given apparel. You are free to choose the hyper-parameters, training strategy to handle large number of training data (Hint: Batch Size) architecture - number of hidden layers, number of nodes in each hidden layer etc.\n",
    "### Task-1: Play with your neural network to report the best performing architecture for the given task. Also, include the activation function, loss function used in the report."
   ]
  },
  {
   "cell_type": "markdown",
   "metadata": {},
   "source": [
    "<u> In this Neural Networks, taking the following components:<br></u>\n",
    "    An input layer, x(784 columns in dataset)<br>\n",
    "    number of hidden layers (entered by the user)<br>\n",
    "    An output layer, ŷ (number of values in target column)<br><br>\n",
    "    Initially taking a random set of weights then, for each iteration:- \n",
    "<br>1) perform forward propagation and obtain predicted outputs.\n",
    "<br>2) calculate error between actual and predicted outputs.\n",
    "<br>3) now to minimize this error, do back propagation and update weights.\n",
    "    \n",
    "    \n",
    "<br><u>Activation functions used to calculate output:</u>\n",
    "<br><br><b><center>reLU</center></b>\n",
    "<img src = \"https://i.imgur.com/Z8Nuily.png\" width=\"300px\" height=\"200px\"></img>\n",
    "<br><b>\n",
    "    <br><center>Sigmoid\n",
    "<img src = \"https://i.imgur.com/oXRmkBm.png\" width=\"300px\" height=\"200px\"></img>\n",
    "<br>\n",
    "<br>tanH\n",
    "<img src = \"https://i.imgur.com/BFgExm5.png\" width=\"300px\" height=\"200px\"></img>\n",
    "<br>\n",
    "<br></center></b>\n",
    "<br><b>loss function used to calculate error:</b>\n",
    "<br><center>cross-validation</center>\n",
    "<img src = \"https://i.imgur.com/zomYLTC.png\" width=\"300px\" height=\"200px\"></img>\n",
    "<center>\n",
    "<br>Mean Squared Error\n",
    "<img src = \"https://i.imgur.com/zHzJNOz.png\" width=\"300px\" height=\"200px\"></img>\n",
    "</center>"
   ]
  },
  {
   "cell_type": "markdown",
   "metadata": {},
   "source": [
    "## Q2"
   ]
  },
  {
   "cell_type": "markdown",
   "metadata": {},
   "source": [
    "algorithm implemented:\n",
    "\n",
    "\n",
    "<u> Results and observations:</u>\n",
    "<br>Precision: 0.95063985 \n",
    "<br>Recall: 0.95412844\n",
    "<br>F1-score: 0.9523809523\n",
    "<br>Accuracy: 0.758007117438\n"
   ]
  },
  {
   "cell_type": "markdown",
   "metadata": {},
   "source": [
    "### Task-2: Contrast the effect of using different activation functions on the validation data. Use ReLU, Sigmoid & Tanh as activation functions in the hidden layers.\n",
    "\n",
    "=>Using Gini as impurity measure to find Information gain and build tree, we found:\n",
    "<br>Precision:  0.972709551657\n",
    "<br>Recall:  0.915596330275\n",
    "<br>\n"
   ]
  },
  {
   "cell_type": "markdown",
   "metadata": {},
   "source": [
    "### Task-3: Report how the number of layers affects the performances of the model. Plot number of layers vs prediction loss graph.\n",
    "\n",
    "=>Using Gini as impurity measure to find Information gain and build tree, we found:\n",
    "<br>Precision:  0.972709551657\n",
    "<br>Recall:  0.915596330275\n",
    "<br>F1:  0.943289228185053381"
   ]
  },
  {
   "cell_type": "markdown",
   "metadata": {},
   "source": [
    "### Task-4: Show how error is dependent on the number of epochs with appropriate plots.\n",
    "\n",
    "i.e. Graph to visualise error is dependent on the number of epochs with appropriate plots:<br>\n",
    "1)epochs on X-axis<br>\n",
    "2)error percentage on Y-axis\n"
   ]
  },
  {
   "cell_type": "markdown",
   "metadata": {},
   "source": [
    "<img src = \"https://i.imgur.com/rGApXbZ.png\" width=\"600px\" height=\"900px\"></img>"
   ]
  },
  {
   "cell_type": "code",
   "execution_count": null,
   "metadata": {},
   "outputs": [],
   "source": []
  }
 ],
 "metadata": {
  "kernelspec": {
   "display_name": "Python 2",
   "language": "python",
   "name": "python2"
  },
  "language_info": {
   "codemirror_mode": {
    "name": "ipython",
    "version": 2
   },
   "file_extension": ".py",
   "mimetype": "text/x-python",
   "name": "python",
   "nbconvert_exporter": "python",
   "pygments_lexer": "ipython2",
   "version": "2.7.15rc1"
  }
 },
 "nbformat": 4,
 "nbformat_minor": 2
}
