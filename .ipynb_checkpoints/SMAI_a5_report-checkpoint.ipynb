{
 "cells": [
  {
   "cell_type": "markdown",
   "metadata": {},
   "source": [
    "<center>\n",
    "\n",
    "## SMAI ASSIGNMENT-5\n",
    "### SUBMITTED BY: AISHWARYA SHIVACHANDRA\n",
    "### ROLL NO. : 2018202005</center>"
   ]
  },
  {
   "cell_type": "markdown",
   "metadata": {},
   "source": [
    "## Q1 Train and validate your own n-layer Neural Network on the Apparel dataset to predict the class label of a given apparel. You are free to choose the hyper-parameters, training strategy to handle large number of training data (Hint: Batch Size) architecture - number of hidden layers, number of nodes in each hidden layer etc.\n",
    "### Task-1: Play with your neural network to report the best performing architecture for the given task. Also, include the activation function, loss function used in the report."
   ]
  },
  {
   "cell_type": "markdown",
   "metadata": {},
   "source": [
    "=> In this Neural Networks, taking the following components:<br>\n",
    "    An input layer, x(784 columns in dataset)<br>\n",
    "    number of hidden layers (entered by the user)<br>\n",
    "    An output layer, ŷ (number of values in target column)<br><br>\n",
    "    Initially taking a random set of weights then, for each iteration:- \n",
    "<br>1) perform forward propagation and obtain predicted outputs.\n",
    "<br>2) calculate error between actual and predicted outputs.\n",
    "<br>3) now to minimize this error, do back propagation and update weights.\n",
    "    \n",
    "    \n",
    "<br><u>Activation functions used to calculate output:</u>\n",
    "<br><br><b><center>reLU</center></b>\n",
    "<img src = \"https://i.imgur.com/Z8Nuily.png\" width=\"200px\" height=\"150px\"></img>\n",
    "<br><b>\n",
    "    <br><center>Sigmoid\n",
    "<img src = \"https://i.imgur.com/oXRmkBm.png\" width=\"200px\" height=\"150px\"></img>\n",
    "<br>\n",
    "<br>tanH\n",
    "<img src = \"https://i.imgur.com/BFgExm5.png\" width=\"300px\" height=\"200px\"></img>\n",
    "<br>\n",
    "<br></center></b>\n",
    "<br><u>Loss functions used to calculate error:</u><b>\n",
    "<br><center>cross-validation</center>\n",
    "<img src = \"https://i.imgur.com/zomYLTC.png\" width=\"300px\" height=\"200px\"></img>\n",
    "<center>\n",
    "<br>Mean Squared Error\n",
    "<img src = \"https://i.imgur.com/zHzJNOz.png\" width=\"150px\" height=\"10px\"></img>\n",
    "</center></b>"
   ]
  },
  {
   "cell_type": "markdown",
   "metadata": {},
   "source": [
    "### Task-2: Contrast the effect of using different activation functions on the validation data. Use ReLU, Sigmoid & Tanh as activation functions in the hidden layers.\n",
    "\n",
    "=>Graph to visualise error is dependent on the number of epochs with appropriate plots:<br>\n",
    "<u><b>Sigmoid</b></u><br>\n",
    "1)epochs on X-axis<br>\n",
    "2)error percentage on Y-axis\n",
    "\n",
    "<img src = \"https://i.imgur.com/yMXmOIL.jpg\" width=\"500px\" height=\"300px\"></img>\n",
    "\n",
    "\n",
    "<u><b>rectified linear unit (ReLU)</b></u><br>\n",
    "1)epochs on X-axis<br>\n",
    "2)error percentage on Y-axis\n",
    "\n",
    "<img src = \"https://i.imgur.com/51TLz2Z.png\" width=\"500px\" height=\"300px\"></img>\n",
    "\n",
    "<u><b>Tanh</b></u><br>\n",
    "1)epochs on X-axis<br>\n",
    "2)error percentage on Y-axis\n",
    "\n",
    "<img src = \"https://i.imgur.com/yMXmOIL.jpg\" width=\"500px\" height=\"300px\"></img>"
   ]
  },
  {
   "cell_type": "markdown",
   "metadata": {},
   "source": [
    "### Task-3: Report how the number of layers affects the performances of the model. Plot number of layers vs prediction loss graph.\n",
    "\n",
    "=> taking number of layers as 1,2 and 3, calculate loss observed at each and plot the following graph.\n",
    "<br>\n",
    "<img src = \"https://i.imgur.com/I6DhwgW.png\" width=\"500px\" height=\"300px\"></img>"
   ]
  },
  {
   "cell_type": "markdown",
   "metadata": {},
   "source": [
    "### Task-4: Show how error is dependent on the number of epochs with appropriate plots.\n",
    "\n",
    "=> Graph to visualise error is dependent on the number of epochs with appropriate plots:<br>\n",
    "1)epochs on X-axis<br>\n",
    "2)error percentage on Y-axis\n"
   ]
  },
  {
   "cell_type": "markdown",
   "metadata": {},
   "source": [
    "<img src = \"https://i.imgur.com/rGApXbZ.png\" width=\"600px\" height=\"900px\"></img>"
   ]
  },
  {
   "cell_type": "code",
   "execution_count": null,
   "metadata": {},
   "outputs": [],
   "source": []
  },
  {
   "cell_type": "markdown",
   "metadata": {},
   "source": [
    "## Q2 Suppose you need to predict the Sale Price of a house and for the task you want to use a neural network with 3 hidden layers. \n",
    "### Write a report on how you would modify your above neural network for such task with proper reasoning."
   ]
  },
  {
   "cell_type": "markdown",
   "metadata": {},
   "source": [
    "The model of neural network we build for Apparel dataset is designed to work on classification problems.\n",
    "\n",
    "But this dataset consists of categorical values, and it is a regression problem. So we need to make the following changes:-<br>\n",
    "<br>1) Since, we to predict a single output,i.e. the sale price of a house. So change the output layer size to one. So, change the nueral network with output layer size as 1.\n",
    "<br>2) In the house price prediction problem, mean absolute error (MAE), mean square error (MSE) or mean percentage error (MPE) can be used for calculating losses.\n",
    "<br>3) Here, linear activation function can be used, such as softmax or reLU function.\n",
    "We can also use reLU at the output layer since the house price will always be greater than zero.\n",
    "\n",
    "The number of hidden layers can be greater than 1 for this problem as the output will be a highly non linear function of the inputs.\n",
    "\n",
    "<br> 4) Since, this dataset consists of categorical values,one way to account for categorical features is to use one hot encode approach.\n",
    "\n",
    "This can be done by reading the numerical and categorical attributes separately, then one hot encoding the categorical attributes."
   ]
  },
  {
   "cell_type": "code",
   "execution_count": null,
   "metadata": {},
   "outputs": [],
   "source": []
  }
 ],
 "metadata": {
  "kernelspec": {
   "display_name": "Python 2",
   "language": "python",
   "name": "python2"
  },
  "language_info": {
   "codemirror_mode": {
    "name": "ipython",
    "version": 2
   },
   "file_extension": ".py",
   "mimetype": "text/x-python",
   "name": "python",
   "nbconvert_exporter": "python",
   "pygments_lexer": "ipython2",
   "version": "2.7.15rc1"
  }
 },
 "nbformat": 4,
 "nbformat_minor": 2
}
